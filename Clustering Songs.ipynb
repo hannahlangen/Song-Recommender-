{
 "cells": [
  {
   "cell_type": "code",
   "execution_count": null,
   "id": "a0174a9d",
   "metadata": {},
   "outputs": [],
   "source": [
    "import numpy as np\n",
    "import pandas as pd\n",
    "import pickle\n",
    "from sklearn import datasets # sklearn comes with some toy datasets to practise\n",
    "from sklearn.preprocessing import StandardScaler\n",
    "from sklearn.cluster import KMeans\n",
    "from matplotlib import pyplot\n",
    "from sklearn.metrics import silhouette_score\n",
    "import spotipy\n",
    "from spotipy.oauth2 import SpotifyClientCredentials\n",
    "import json\n",
    "import myconfig"
   ]
  },
  {
   "cell_type": "markdown",
   "id": "d167694f",
   "metadata": {},
   "source": [
    "## load data and drop columns"
   ]
  },
  {
   "cell_type": "code",
   "execution_count": null,
   "id": "fb4334f0",
   "metadata": {},
   "outputs": [],
   "source": [
    "song_cluster = pd.read_csv('list_of_songs.csv')"
   ]
  },
  {
   "cell_type": "code",
   "execution_count": null,
   "id": "c46067ef",
   "metadata": {},
   "outputs": [],
   "source": [
    "song_cluster = pd.DataFrame(song_cluster)\n",
    "song_cluster"
   ]
  },
  {
   "cell_type": "code",
   "execution_count": null,
   "id": "9e2638a5",
   "metadata": {},
   "outputs": [],
   "source": [
    "#create separate dataframe for song name and id\n",
    "data = [song_cluster[\"name_caller\"], song_cluster[\"id_caller.1\"],song_cluster[\"artist\"] ]\n",
    "headers = [\"name\", \"id\", \"artist\"]\n",
    "\n",
    "song_df = pd.concat(data, axis=1, keys=headers)\n",
    "song_df"
   ]
  },
  {
   "cell_type": "code",
   "execution_count": null,
   "id": "3691d149",
   "metadata": {},
   "outputs": [],
   "source": [
    "#drop unneccessary columns\n",
    "song_cluster.drop([\"time_signature\"],axis=1, inplace=True)\n",
    "song_cluster.drop([\"name_other\"],axis=1, inplace=True)\n",
    "song_cluster.drop([\"id_caller.1\"],axis=1, inplace=True)\n",
    "song_cluster.drop([\"id_caller.2\"],axis=1, inplace=True)\n",
    "song_cluster.drop([\"name_caller.1\"],axis=1, inplace=True)\n",
    "song_cluster.drop([\"id_other.1\"],axis=1, inplace=True)\n",
    "song_cluster.drop([\"id_other.2\"],axis=1, inplace=True)\n",
    "song_cluster.drop([\"name_other.1\"],axis=1, inplace=True)\n",
    "song_cluster.drop([\"type\"],axis=1, inplace=True)\n",
    "song_cluster.drop([\"id_caller\"],axis=1, inplace=True)\n",
    "song_cluster.drop([\"uri\"],axis=1, inplace=True)\n",
    "song_cluster.drop([\"track_href\"],axis=1, inplace=True)\n",
    "song_cluster.drop([\"analysis_url\"],axis=1, inplace=True)\n",
    "song_cluster.drop([\"duration_ms\"],axis=1, inplace=True)\n",
    "song_cluster.drop([\"name_caller\"],axis=1, inplace=True)\n",
    "song_cluster.drop([\"name\"],axis=1, inplace=True)\n",
    "song_cluster.drop([\"id_other\"],axis=1, inplace=True)\n",
    "song_cluster.drop([\"artist\"],axis=1, inplace=True)"
   ]
  },
  {
   "cell_type": "code",
   "execution_count": null,
   "id": "2d61c1c9",
   "metadata": {},
   "outputs": [],
   "source": [
    "X = song_cluster\n",
    "X"
   ]
  },
  {
   "cell_type": "markdown",
   "id": "cf0789c4",
   "metadata": {},
   "source": [
    "## scaling features"
   ]
  },
  {
   "cell_type": "code",
   "execution_count": null,
   "id": "11b6ca2e",
   "metadata": {},
   "outputs": [],
   "source": [
    "X.describe()"
   ]
  },
  {
   "cell_type": "code",
   "execution_count": null,
   "id": "1f254614",
   "metadata": {},
   "outputs": [],
   "source": [
    "#use standard scaler on dataframe\n",
    "scaler = StandardScaler()\n",
    "scaler.fit(X)\n",
    "X_scaled = scaler.transform(X)\n",
    "X_scaled_df = pd.DataFrame(X_scaled, columns = X.columns)\n",
    "display(X.head())\n",
    "print()\n",
    "display(X_scaled_df.head())"
   ]
  },
  {
   "cell_type": "code",
   "execution_count": null,
   "id": "75525ee8",
   "metadata": {},
   "outputs": [],
   "source": [
    "X_scaled_df.describe()"
   ]
  },
  {
   "cell_type": "markdown",
   "id": "e93a0e48",
   "metadata": {},
   "source": [
    "## clustering the songs with k-means"
   ]
  },
  {
   "cell_type": "code",
   "execution_count": null,
   "id": "3336caa2",
   "metadata": {},
   "outputs": [],
   "source": [
    "#create 7 clusters using kmeans\n",
    "kmeans = KMeans(n_clusters=7, random_state=1234)\n",
    "kmeans.fit(X_scaled_df)"
   ]
  },
  {
   "cell_type": "code",
   "execution_count": null,
   "id": "089d0582",
   "metadata": {},
   "outputs": [],
   "source": [
    "kmeans.labels_"
   ]
  },
  {
   "cell_type": "code",
   "execution_count": null,
   "id": "59ddee2e",
   "metadata": {},
   "outputs": [],
   "source": [
    "# assign a cluster to each example\n",
    "labels = kmeans.predict(X_scaled_df)\n",
    "# retrieve unique clusters\n",
    "clusters = np.unique(labels)\n",
    "# create scatter plot for samples from each cluster\n",
    "for cluster in clusters:\n",
    "    # get row indexes for samples with this cluster\n",
    "    row_ix = np.where(labels == cluster)\n",
    "    # create scatter of these samples\n",
    "    pyplot.scatter(X.to_numpy()[row_ix, 1], X.to_numpy()[row_ix, 5])\n",
    "    # show the plot\n",
    "pyplot.show()"
   ]
  },
  {
   "cell_type": "code",
   "execution_count": null,
   "id": "5f6f8410",
   "metadata": {},
   "outputs": [],
   "source": [
    "clusters = kmeans.predict(X_scaled_df)\n",
    "#clusters\n",
    "pd.Series(clusters).value_counts().sort_index()"
   ]
  },
  {
   "cell_type": "code",
   "execution_count": null,
   "id": "7a003edc",
   "metadata": {},
   "outputs": [],
   "source": [
    "#create dataframe from clusters\n",
    "X[\"cluster\"] = clusters\n",
    "X"
   ]
  },
  {
   "cell_type": "markdown",
   "id": "2671a8e8",
   "metadata": {},
   "source": [
    "### show sample from a specific cluster"
   ]
  },
  {
   "cell_type": "code",
   "execution_count": null,
   "id": "92278c85",
   "metadata": {},
   "outputs": [],
   "source": [
    "X[X['cluster'] == 3].sample()"
   ]
  },
  {
   "cell_type": "markdown",
   "id": "6f35a081",
   "metadata": {},
   "source": [
    "#### playing with the parameters"
   ]
  },
  {
   "cell_type": "code",
   "execution_count": null,
   "id": "1c7f3281",
   "metadata": {},
   "outputs": [],
   "source": [
    "#use inertia to find the best model (mean squared distance between each instance and its closest centroid) \n",
    "kmeans.inertia_"
   ]
  },
  {
   "cell_type": "code",
   "execution_count": null,
   "id": "8a380856",
   "metadata": {},
   "outputs": [],
   "source": [
    "kmeans2 = KMeans(n_clusters=50,\n",
    "                init=\"k-means++\",\n",
    "                n_init=20,  \n",
    "                max_iter=10,\n",
    "                tol=0,\n",
    "                algorithm=\"elkan\",\n",
    "                random_state=1234)\n",
    "kmeans2.fit(X_scaled_df)\n",
    "print(kmeans2.inertia_)"
   ]
  },
  {
   "cell_type": "markdown",
   "id": "06dd0cb7",
   "metadata": {},
   "source": [
    "#### choosing k"
   ]
  },
  {
   "cell_type": "code",
   "execution_count": null,
   "id": "f20c98ea",
   "metadata": {},
   "outputs": [],
   "source": [
    "K = range(2, 21)\n",
    "inertia = []\n",
    "\n",
    "for k in K:\n",
    "    print(\"Training a K-Means model with {} clusters! \".format(k))\n",
    "    print()\n",
    "    kmeans = KMeans(n_clusters=k,\n",
    "                    random_state=1234)\n",
    "    kmeans.fit(X_scaled_df)\n",
    "    inertia.append(kmeans.inertia_)\n",
    "\n",
    "import numpy as np\n",
    "import matplotlib.pyplot as plt\n",
    "%matplotlib inline\n",
    "\n",
    "plt.figure(figsize=(16,8))\n",
    "plt.plot(K, inertia, 'bx-')\n",
    "plt.xlabel('k')\n",
    "plt.ylabel('inertia')\n",
    "plt.xticks(np.arange(min(K), max(K)+1, 1.0))\n",
    "plt.title('Elbow Method showing the optimal k')"
   ]
  },
  {
   "cell_type": "markdown",
   "id": "ef5030e0",
   "metadata": {},
   "source": [
    "#### saving with pickle"
   ]
  },
  {
   "cell_type": "code",
   "execution_count": null,
   "id": "2dec92c1",
   "metadata": {},
   "outputs": [],
   "source": [
    "import pickle\n",
    "\n",
    "#scaler = StandardScaler()\n",
    "#model = KMeans()\n",
    "\n",
    "with open(\"scaler.pickle\", \"wb\") as f:\n",
    "    pickle.dump(scaler,f)\n",
    "\n",
    "with open(\"kmeans_4.pickle\", \"wb\") as f:\n",
    "    pickle.dump(kmeans,f)"
   ]
  },
  {
   "cell_type": "code",
   "execution_count": null,
   "id": "db22939a",
   "metadata": {},
   "outputs": [],
   "source": [
    "def load(filename = \"filename.pickle\"): \n",
    "    try: \n",
    "        with open(filename, \"rb\") as f: \n",
    "            return pickle.load(f) \n",
    "        \n",
    "    except FileNotFoundError: \n",
    "        print(\"File not found!\") \n",
    "\n"
   ]
  },
  {
   "cell_type": "code",
   "execution_count": null,
   "id": "8e3acded",
   "metadata": {},
   "outputs": [],
   "source": [
    "scaler2 = load(\"scaler.pickle\")"
   ]
  },
  {
   "cell_type": "markdown",
   "id": "2c210941",
   "metadata": {},
   "source": [
    "#### Silhouette"
   ]
  },
  {
   "cell_type": "code",
   "execution_count": null,
   "id": "83eec7b1",
   "metadata": {},
   "outputs": [],
   "source": [
    "K = range(2, 20)\n",
    "silhouette = []\n",
    "\n",
    "for k in K:\n",
    "    kmeans = KMeans(n_clusters=k,\n",
    "                    random_state=1234)\n",
    "    kmeans.fit(X_scaled_df)\n",
    "    \n",
    "    filename = \"kmeans_\" + str(k) + \".pickle\"\n",
    "    with open(filename, \"wb\") as f:\n",
    "        pickle.dump(kmeans,f)\n",
    "    \n",
    "    silhouette.append(silhouette_score(X_scaled_df, kmeans.predict(X_scaled_df)))\n",
    "\n",
    "\n",
    "plt.figure(figsize=(16,8))\n",
    "plt.plot(K, silhouette, 'bx-')\n",
    "plt.xlabel('k')\n",
    "plt.ylabel('silhouette score')\n",
    "plt.xticks(np.arange(min(K), max(K)+1, 1.0))\n",
    "plt.title('Silhouette Method showing the optimal k')"
   ]
  },
  {
   "cell_type": "code",
   "execution_count": null,
   "id": "65525f48",
   "metadata": {},
   "outputs": [],
   "source": [
    "X"
   ]
  },
  {
   "cell_type": "code",
   "execution_count": null,
   "id": "01b30707",
   "metadata": {},
   "outputs": [],
   "source": [
    "#concatenate dataframes with name&id and audio features\n",
    "spotify_songs = pd.concat([song_df, X], axis=1)"
   ]
  },
  {
   "cell_type": "code",
   "execution_count": null,
   "id": "1ad1cddf",
   "metadata": {
    "scrolled": true
   },
   "outputs": [],
   "source": [
    "spotify_songs"
   ]
  },
  {
   "cell_type": "code",
   "execution_count": null,
   "id": "c310e1ab",
   "metadata": {},
   "outputs": [],
   "source": [
    "print(str(spotify_songs['name'][spotify_songs['cluster'] == 0].sample()).split('    ')[1].split(\"\\n\")[0])"
   ]
  },
  {
   "cell_type": "markdown",
   "id": "1aa19934",
   "metadata": {},
   "source": [
    "## Building the Song Recommender"
   ]
  },
  {
   "cell_type": "code",
   "execution_count": null,
   "id": "aab7a557",
   "metadata": {},
   "outputs": [],
   "source": [
    "#Initialize SpotiPy with user credentials\n",
    "sp = spotipy.Spotify(auth_manager=SpotifyClientCredentials(client_id= myconfig.client_id,\n",
    "                                                           client_secret= myconfig.client_secret))"
   ]
  },
  {
   "cell_type": "code",
   "execution_count": null,
   "id": "4bb7cc6a",
   "metadata": {},
   "outputs": [],
   "source": [
    "#import song database\n",
    "spotify_songs.to_csv(r'spotify_songs.csv', index = False)"
   ]
  },
  {
   "cell_type": "code",
   "execution_count": null,
   "id": "3b7922b3",
   "metadata": {},
   "outputs": [],
   "source": [
    "#import billboard hot 100\n",
    "top_100 = pd.read_excel('billboard_top100.xlsx')"
   ]
  },
  {
   "cell_type": "markdown",
   "id": "4fe34dc0",
   "metadata": {},
   "source": [
    "#input from user returns audio features from spotify\n",
    "input_song = input(\"Please enter a song title: \")\n",
    "results = sp.search(q=input_song,limit=1,market=\"GB\")\n",
    "track_id=results['tracks']['items'][0]['external_urls'][\"spotify\"][31:]\n",
    "input_dict = sp.audio_features(track_id)[0]\n",
    "del input_dict[\"type\"]\n",
    "del input_dict[\"id\"]\n",
    "del input_dict[\"track_href\"]\n",
    "del input_dict[\"analysis_url\"]\n",
    "del input_dict[\"duration_ms\"]\n",
    "del input_dict[\"time_signature\"]\n",
    "del input_dict[\"uri\"]"
   ]
  },
  {
   "cell_type": "code",
   "execution_count": null,
   "id": "2a51a290",
   "metadata": {},
   "outputs": [],
   "source": [
    "#turn audio features into list\n",
    "input_list=list(input_dict.values())  \n",
    "input_list"
   ]
  },
  {
   "cell_type": "code",
   "execution_count": null,
   "id": "cb4683c7",
   "metadata": {},
   "outputs": [],
   "source": [
    "#turn audio features into array\n",
    "input_array = np.array(input_list).reshape(1,-1)\n",
    "input_array"
   ]
  },
  {
   "cell_type": "code",
   "execution_count": null,
   "id": "e43390ee",
   "metadata": {},
   "outputs": [],
   "source": [
    "#scale audio features\n",
    "input_array_scaled = scaler.transform(input_array)\n",
    "input_array_scaled"
   ]
  },
  {
   "cell_type": "code",
   "execution_count": null,
   "id": "01750949",
   "metadata": {},
   "outputs": [],
   "source": [
    "#turn audio features into dataframe\n",
    "input_df = pd.DataFrame(data=input_array_scaled, index=None,columns=input_dict.keys())\n",
    "input_df = pd.DataFrame(input_df)\n",
    "input_df"
   ]
  },
  {
   "cell_type": "code",
   "execution_count": null,
   "id": "8595528f",
   "metadata": {},
   "outputs": [],
   "source": [
    "#use kmeans predict on audio features dataframe to return cluster for song input\n",
    "cluster_label = kmeans.predict(input_df)\n",
    "cluster_label"
   ]
  },
  {
   "cell_type": "markdown",
   "id": "3929e542",
   "metadata": {},
   "source": [
    "## Recommender Function"
   ]
  },
  {
   "cell_type": "code",
   "execution_count": null,
   "id": "d3f4042f",
   "metadata": {},
   "outputs": [],
   "source": [
    "#function to show whether song is in the hot 100 and to suggest another song from the same cluster\n",
    "def user_search():\n",
    "    user_input = input(\"Please enter a song title: \")\n",
    "    from IPython.display import IFrame\n",
    "\n",
    "    #searching for track_id of input-song\n",
    "    results = sp.search(q=user_input,limit=1,market=\"GB\")\n",
    "    track_id=results['tracks']['items'][0]['external_urls'][\"spotify\"][31:]\n",
    "    \n",
    "    # getting the spotify audio features of the song & deleting unnecessary features\n",
    "    input_dict = sp.audio_features(track_id)[0]\n",
    "    del input_dict[\"type\"]\n",
    "    del input_dict[\"id\"]\n",
    "    del input_dict[\"track_href\"]\n",
    "    del input_dict[\"analysis_url\"]\n",
    "    del input_dict[\"duration_ms\"]\n",
    "    del input_dict[\"time_signature\"]\n",
    "    del input_dict[\"uri\"]\n",
    "    \n",
    "    # standard scaling \n",
    "    input_list=list(input_dict.values())  \n",
    "    input_array = np.array(input_list).reshape(1,-1)\n",
    "    input_array_scaled = scaler.transform(input_array)\n",
    "    \n",
    "    # getting cluster label for user_song\n",
    "    input_df = pd.DataFrame(data=input_array_scaled, index=None,columns=input_dict.keys())\n",
    "    input_df = pd.DataFrame(input_df)\n",
    "    cluster_label = kmeans.predict(input_df)\n",
    "    \n",
    "    if top_100['song_title'].str.contains(user_input).any():\n",
    "        artists_of_song = list(top_100['song_artist'][top_100['song_title'] == user_input].values)\n",
    "        if len(artists_of_song) == 1:\n",
    "            song_artist = artists_of_song[0]\n",
    "            print(\"Your song is by\",song_artist,\"and is in the Hot100\")\n",
    "            print(\"Another song from the Top100 that you might like:\", np.random.choice(top_100['song_title']))\n",
    "        elif len(artists_of_song) > 1:\n",
    "            song_artist1 = artists_of_song[0]\n",
    "            song_artist2 = artists_of_song[1]\n",
    "            print(\"Your song is in the Hot100, but by two different artists: \",song_artist1, \"&\", song_artist2)\n",
    "            print(\"Another song from the Top100 that you might like:\", np.random.choice(top_100['song_title']))\n",
    "    else:\n",
    "        for cluster_index in range(7):\n",
    "            if cluster_label == cluster_index:\n",
    "                song_recom = spotify_songs.loc[spotify_songs['cluster'] == cluster_index].sample()  \n",
    "                print(\"Your song is not in the Hot100\")\n",
    "                print(\"Maybe you like this song: \",str(song_recom[\"name\"]).split('    ')[1].split(\"\\n\")[0],\"by\",str(song_recom[\"artist\"]).split('    ')[1].split(\"\\n\")[0])\n",
    "                return IFrame(src=\"https://open.spotify.com/embed/track/\"+str(song_recom['id']).split('    ')[1].split(\"\\n\")[0],\n",
    "                           width=\"320\",\n",
    "                           height=\"80\",\n",
    "                           frameborder=\"0\",\n",
    "                           allowtransparency=\"true\",\n",
    "                           allow=\"encrypted-media\",\n",
    "                          )\n"
   ]
  },
  {
   "cell_type": "code",
   "execution_count": null,
   "id": "5eac8d4d",
   "metadata": {},
   "outputs": [],
   "source": [
    "user_search()"
   ]
  },
  {
   "cell_type": "code",
   "execution_count": null,
   "id": "2b571245",
   "metadata": {},
   "outputs": [],
   "source": []
  },
  {
   "cell_type": "code",
   "execution_count": null,
   "id": "24494008",
   "metadata": {},
   "outputs": [],
   "source": []
  }
 ],
 "metadata": {
  "kernelspec": {
   "display_name": "Python 3 (ipykernel)",
   "language": "python",
   "name": "python3"
  },
  "language_info": {
   "codemirror_mode": {
    "name": "ipython",
    "version": 3
   },
   "file_extension": ".py",
   "mimetype": "text/x-python",
   "name": "python",
   "nbconvert_exporter": "python",
   "pygments_lexer": "ipython3",
   "version": "3.9.7"
  },
  "toc": {
   "base_numbering": 1,
   "nav_menu": {},
   "number_sections": true,
   "sideBar": true,
   "skip_h1_title": false,
   "title_cell": "Table of Contents",
   "title_sidebar": "Contents",
   "toc_cell": false,
   "toc_position": {},
   "toc_section_display": true,
   "toc_window_display": false
  },
  "varInspector": {
   "cols": {
    "lenName": 16,
    "lenType": 16,
    "lenVar": 40
   },
   "kernels_config": {
    "python": {
     "delete_cmd_postfix": "",
     "delete_cmd_prefix": "del ",
     "library": "var_list.py",
     "varRefreshCmd": "print(var_dic_list())"
    },
    "r": {
     "delete_cmd_postfix": ") ",
     "delete_cmd_prefix": "rm(",
     "library": "var_list.r",
     "varRefreshCmd": "cat(var_dic_list()) "
    }
   },
   "types_to_exclude": [
    "module",
    "function",
    "builtin_function_or_method",
    "instance",
    "_Feature"
   ],
   "window_display": false
  }
 },
 "nbformat": 4,
 "nbformat_minor": 5
}
